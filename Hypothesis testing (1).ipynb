{
 "cells": [
  {
   "cell_type": "markdown",
   "id": "e4b8d908-d472-42a5-9ab2-9ed5c845f57c",
   "metadata": {},
   "source": [
    "# Name: Arav Kumar\n",
    "\n",
    "### Batch Start 19-Aug-24\n",
    "\n",
    "### Course: Data Science"
   ]
  },
  {
   "cell_type": "markdown",
   "id": "9f81a1a7-c2d5-424e-96b8-abf0b2dcf028",
   "metadata": {},
   "source": [
    "## CHI-SQUARE TEST"
   ]
  },
  {
   "cell_type": "markdown",
   "id": "714eb961-8707-4a3a-9c3f-93d0ba27c894",
   "metadata": {},
   "source": [
    "#### Association between Device Type and Customer Satisfaction"
   ]
  },
  {
   "cell_type": "raw",
   "id": "cf5fcbc0-c65f-4819-9234-64c4dcc520f4",
   "metadata": {},
   "source": [
    "Background:\n",
    "Mizzare Corporation has collected data on customer satisfaction levels for two types of smart home devices: Smart Thermostats and Smart Lights.\n",
    "They want to determine if there's a significant association between the type of device purchased and the customer's satisfaction level."
   ]
  },
  {
   "cell_type": "raw",
   "id": "41b9282b-3d3c-4451-a485-ce7c1d192d8e",
   "metadata": {},
   "source": [
    "Data Provided:\n",
    "The data is summarized in a contingency table showing the counts of customers in each satisfaction level for both types of devices:\n",
    "\n",
    "Satisfaction\tSmart Thermostat\tSmart Light\t Total\n",
    "Very Satisfied\t      50\t            70\t      120\n",
    "Satisfied\t          80\t            100\t      180\n",
    "Neutral\t              60\t            90\t      150\n",
    "Unsatisfied\t          30\t            50\t      80\n",
    "Very Unsatisfied\t  20\t            50\t      70\n",
    "Total\t              240\t            360\t      600\n",
    "\n",
    "Objective:\n",
    "To use the Chi-Square test for independence to determine if there's a significant association between the type of smart home device \n",
    "purchased (Smart Thermostats vs. Smart Lights) and the customer satisfaction level.\n"
   ]
  },
  {
   "cell_type": "raw",
   "id": "bac7740e-7229-400b-9a8e-1261f9adffc6",
   "metadata": {},
   "source": [
    "Assignment Tasks:\n",
    "\n",
    "1. State the Hypotheses:\n",
    "2. Compute the Chi-Square Statistic:\n",
    "3. Determine the Critical Value:\n",
    "   Using the significance level (alpha) of 0.05 and the degrees of freedom (which is the number of categories minus 1)\n",
    "4. Make a Decision: Compare the Chi-Square statistic with the critical value to decide whether to reject the null hypothesis.\n",
    "\n",
    "Submission Guidelines:\n",
    "•\tProvide a detailed report of your analysis, including each step outlined in the assignment tasks in a python file.\n",
    "•\tInclude all calculations, the Chi-Square statistic, the critical value, and your conclusion.\n"
   ]
  },
  {
   "cell_type": "code",
   "execution_count": 4,
   "id": "a5ea5f3d-3fa3-48b2-9934-88ebc39e02de",
   "metadata": {},
   "outputs": [],
   "source": [
    "import numpy as np\n",
    "import scipy.stats as stats"
   ]
  },
  {
   "cell_type": "code",
   "execution_count": 5,
   "id": "79126e2e-5afc-4138-bc9a-04384d73a1cc",
   "metadata": {},
   "outputs": [],
   "source": [
    "# Observed data in the contingency table\n",
    "observed = np.array([\n",
    "    [50, 70],\n",
    "    [80, 100],\n",
    "    [60, 90],\n",
    "    [30, 50],\n",
    "    [20, 50]\n",
    "])"
   ]
  },
  {
   "cell_type": "code",
   "execution_count": 6,
   "id": "43959d5b-4085-4678-8d1e-7e28c5579aad",
   "metadata": {},
   "outputs": [],
   "source": [
    "# Row and column totals\n",
    "row_totals = observed.sum(axis=1)\n",
    "column_totals = observed.sum(axis=0)\n",
    "grand_total = observed.sum()"
   ]
  },
  {
   "cell_type": "code",
   "execution_count": 7,
   "id": "feec722d-7d84-4ce4-ac19-8f2940a532c3",
   "metadata": {},
   "outputs": [
    {
     "data": {
      "text/plain": [
       "array([120, 180, 150,  80,  70])"
      ]
     },
     "execution_count": 7,
     "metadata": {},
     "output_type": "execute_result"
    }
   ],
   "source": [
    "row_totals"
   ]
  },
  {
   "cell_type": "code",
   "execution_count": 8,
   "id": "127329aa-25c6-4526-bc8d-cff59c7bd8f5",
   "metadata": {},
   "outputs": [
    {
     "data": {
      "text/plain": [
       "array([240, 360])"
      ]
     },
     "execution_count": 8,
     "metadata": {},
     "output_type": "execute_result"
    }
   ],
   "source": [
    "column_totals"
   ]
  },
  {
   "cell_type": "code",
   "execution_count": 9,
   "id": "06df1cad-37e3-410f-9de1-2a250a2a608b",
   "metadata": {},
   "outputs": [
    {
     "data": {
      "text/plain": [
       "600"
      ]
     },
     "execution_count": 9,
     "metadata": {},
     "output_type": "execute_result"
    }
   ],
   "source": [
    "grand_total"
   ]
  },
  {
   "cell_type": "code",
   "execution_count": 10,
   "id": "e95bbdb9-b0f6-430a-b58c-7231f0b2916d",
   "metadata": {},
   "outputs": [
    {
     "data": {
      "text/plain": [
       "array([[ 48.,  72.],\n",
       "       [ 72., 108.],\n",
       "       [ 60.,  90.],\n",
       "       [ 32.,  48.],\n",
       "       [ 28.,  42.]])"
      ]
     },
     "execution_count": 10,
     "metadata": {},
     "output_type": "execute_result"
    }
   ],
   "source": [
    "# Expected frequencies\n",
    "expected = np.outer(row_totals, column_totals) / grand_total\n",
    "expected"
   ]
  },
  {
   "cell_type": "code",
   "execution_count": 11,
   "id": "e79f0c88-68b6-4662-be78-7269befcd4b5",
   "metadata": {},
   "outputs": [],
   "source": [
    "# Compute Chi-Square Statistic\n",
    "chi_square_stat = ((observed - expected) ** 2 / expected).sum()"
   ]
  },
  {
   "cell_type": "code",
   "execution_count": 12,
   "id": "d5ea3168-1847-473e-b468-89fde902e13b",
   "metadata": {},
   "outputs": [
    {
     "data": {
      "text/plain": [
       "4"
      ]
     },
     "execution_count": 12,
     "metadata": {},
     "output_type": "execute_result"
    }
   ],
   "source": [
    "# Degrees of freedom\n",
    "df = (observed.shape[0] - 1) * (observed.shape[1] - 1)\n",
    "df"
   ]
  },
  {
   "cell_type": "code",
   "execution_count": 13,
   "id": "caef5dec-4264-413c-8e6b-96a197256c3e",
   "metadata": {},
   "outputs": [],
   "source": [
    "# Critical value for 0.05 significance level\n",
    "alpha = 0.05\n",
    "critical_value = stats.chi2.ppf(1 - alpha, df)"
   ]
  },
  {
   "cell_type": "code",
   "execution_count": 14,
   "id": "b4132e6c-f80c-40d3-b7c9-3a2ca894fcda",
   "metadata": {},
   "outputs": [],
   "source": [
    "# p-value\n",
    "p_value = 1 - stats.chi2.cdf(chi_square_stat, df)"
   ]
  },
  {
   "cell_type": "code",
   "execution_count": 15,
   "id": "a75946a5-2092-4072-83e8-771a9a7642b2",
   "metadata": {},
   "outputs": [
    {
     "name": "stdout",
     "output_type": "stream",
     "text": [
      "Chi-Square Statistic: 5.638227513227513\n",
      "Critical Value at alpha=0.05: 9.487729036781154\n",
      "p-value: 0.22784371130697179\n"
     ]
    }
   ],
   "source": [
    "# Decision\n",
    "print(\"Chi-Square Statistic:\", chi_square_stat)\n",
    "print(\"Critical Value at alpha=0.05:\", critical_value)\n",
    "print(\"p-value:\", p_value)"
   ]
  },
  {
   "cell_type": "code",
   "execution_count": 16,
   "id": "fc55692b-8966-4082-a728-7dbdd8461b99",
   "metadata": {},
   "outputs": [
    {
     "name": "stdout",
     "output_type": "stream",
     "text": [
      "Fail to reject the null hypothesis: No significant association between device type and customer satisfaction.\n"
     ]
    }
   ],
   "source": [
    "if chi_square_stat > critical_value:\n",
    "    print(\"Reject the null hypothesis: There is a significant association between device type and customer satisfaction.\")\n",
    "else:\n",
    "    print(\"Fail to reject the null hypothesis: No significant association between device type and customer satisfaction.\")"
   ]
  },
  {
   "cell_type": "raw",
   "id": "716f97a1-129e-4c72-87ab-26c69e843f98",
   "metadata": {},
   "source": [
    "Explanation \n",
    "\n",
    "Chi-Square Statistic: This is the calculated Chi-Square statistic based on the observed and expected frequencies.\n",
    "Critical Value: This is the threshold value for the Chi-Square statistic at a 0.05 significance level.\n",
    "p-value: This represents the probability of observing a Chi-Square statistic at least as extreme as the one calculated, under the null hypothesis.\n",
    "\n",
    "Interpretation\n",
    "If the Chi-Square statistic > Critical value or p-value < 0.05, we reject the null hypothesis, suggesting a significant association between device type\n",
    "and customer satisfaction level.\n",
    "    \n",
    "Otherwise, we fail to reject the null hypothesis, indicating no significant association between device type and customer satisfaction.\n",
    "This analysis provides a clear decision on whether an association exists based on the given data."
   ]
  },
  {
   "cell_type": "markdown",
   "id": "8fff2973-517d-4ef1-aed8-6f661423f46a",
   "metadata": {},
   "source": [
    "# HYPOTHESIS TESTING"
   ]
  },
  {
   "cell_type": "raw",
   "id": "6500b451-67c9-41d5-abbb-83ef9133f2d1",
   "metadata": {},
   "source": [
    "Background:\n",
    "Bombay hospitality Ltd. operates a franchise model for producing exotic Norwegian dinners throughout New England. The operating cost for a franchise\n",
    "in a week (W) is given by the equation W = $1,000 + $5X, where X represents the number of units produced in a week. Recent feedback from restaurant \n",
    "owners suggests that this cost model may no longer be accurate, as their observed weekly operating costs are higher.\n",
    "\n",
    "Objective:\n",
    "To investigate the restaurant owners' claim about the increase in weekly operating costs using hypothesis testing.\n",
    "\n",
    "Data Provided:\n",
    "•\tThe theoretical weekly operating cost model: W = $1,000 + $5X\n",
    "•\tSample of 25 restaurants with a mean weekly cost of Rs. 3,050\n",
    "•\tNumber of units produced in a week (X) follows a normal distribution with a mean (μ) of 600 units and a standard deviation (σ) of 25 units"
   ]
  },
  {
   "cell_type": "raw",
   "id": "8a65162b-37ac-4508-b665-7c9e331728f7",
   "metadata": {},
   "source": [
    "Assignment Tasks:\n",
    "1. State the Hypotheses statement:\n",
    "2. Calculate the Test Statistic:\n",
    "Use the following formula to calculate the test statistic (t):\n",
    "where:\n",
    "•\tˉxˉ = sample mean weekly cost (Rs. 3,050)\n",
    "•\tμ = theoretical mean weekly cost according to the cost model (W = $1,000 + $5X for X = 600 units)\n",
    "•\tσ = 5*25 units\n",
    "•\tn = sample size (25 restaurants)\n",
    "3. Determine the Critical Value:\n",
    "Using the alpha level of 5% (α = 0.05), determine the critical value from the standard normal (Z) distribution table.\n",
    "4. Make a Decision:\n",
    "Compare the test statistic with the critical value to decide whether to reject the null hypothesis.\n",
    "5. Conclusion:\n",
    "Based on the decision in step 4, conclude whether there is strong evidence to support the restaurant owners' claim that the weekly operating costs are higher than the model suggests.\n",
    "\n",
    "Submission Guidelines:\n",
    "•\tPrepare python file detailing each step of your hypothesis testing process.\n",
    "•\tInclude calculations for the test statistic and the critical value.\n",
    "•\tProvide a clear conclusion based on your analysis."
   ]
  },
  {
   "cell_type": "code",
   "execution_count": 18,
   "id": "469250d6-13a5-4f42-92ec-582ade843583",
   "metadata": {},
   "outputs": [],
   "source": [
    "import math\n",
    "from scipy.stats import norm"
   ]
  },
  {
   "cell_type": "code",
   "execution_count": 19,
   "id": "0169fea6-38b8-4384-931a-3d31d3137717",
   "metadata": {},
   "outputs": [],
   "source": [
    "# Given data\n",
    "sample_mean = 3050  # Sample mean weekly cost in Rs.\n",
    "theoretical_cost_per_unit = 5\n",
    "base_cost = 1000\n",
    "average_units = 600  # Mean units produced per week\n",
    "std_dev_units = 25\n",
    "sample_size = 25  # Number of restaurants in the sample\n",
    "alpha = 0.05  # Significance level"
   ]
  },
  {
   "cell_type": "code",
   "execution_count": 20,
   "id": "c0c33b94-c0ac-48dd-a138-c249757571a1",
   "metadata": {},
   "outputs": [],
   "source": [
    "# Step 1: Calculate the theoretical mean weekly cost\n",
    "theoretical_mean = base_cost + (theoretical_cost_per_unit * average_units)"
   ]
  },
  {
   "cell_type": "code",
   "execution_count": 21,
   "id": "a11ffb84-dab0-49fe-bd65-6bd7632bc271",
   "metadata": {},
   "outputs": [],
   "source": [
    "# Step 2: Calculate the standard deviation of the weekly cost\n",
    "weekly_cost_std_dev = theoretical_cost_per_unit * std_dev_units"
   ]
  },
  {
   "cell_type": "code",
   "execution_count": 22,
   "id": "59acee79-52b2-4784-9b31-26efd597d4d9",
   "metadata": {},
   "outputs": [],
   "source": [
    "# Step 3: Calculate the test statistic\n",
    "standard_error = weekly_cost_std_dev / math.sqrt(sample_size)\n",
    "test_statistic = (sample_mean - theoretical_mean) / standard_error"
   ]
  },
  {
   "cell_type": "code",
   "execution_count": 23,
   "id": "6b41b651-4cbc-4d0a-a154-d928f8b09bde",
   "metadata": {},
   "outputs": [],
   "source": [
    "# Step 4: Determine the critical value (one-tailed test, alpha = 0.05)\n",
    "critical_value = norm.ppf(1 - alpha)"
   ]
  },
  {
   "cell_type": "code",
   "execution_count": 24,
   "id": "c7ecd6fc-df61-4754-91bf-7b6c0a8bc492",
   "metadata": {},
   "outputs": [],
   "source": [
    "# Step 5: Decision\n",
    "decision = \"Reject the null hypothesis\" if test_statistic < -critical_value else \"Fail to reject the null hypothesis\""
   ]
  },
  {
   "cell_type": "code",
   "execution_count": 25,
   "id": "5737d822-2abc-46cd-be6f-66a2398040f5",
   "metadata": {},
   "outputs": [
    {
     "name": "stdout",
     "output_type": "stream",
     "text": [
      "Theoretical Mean Weekly Cost: 4000 Rs.\n",
      "Sample Mean Weekly Cost: 3050 Rs.\n",
      "Standard Deviation of Weekly Cost: 125 Rs.\n",
      "Standard Error: 25.0\n",
      "Test Statistic (t): -38.0\n",
      "Critical Value (Z) at alpha 0.05: 1.6448536269514722\n",
      "Decision: Reject the null hypothesis\n"
     ]
    }
   ],
   "source": [
    "# Output the results\n",
    "print(f\"Theoretical Mean Weekly Cost: {theoretical_mean} Rs.\")\n",
    "print(f\"Sample Mean Weekly Cost: {sample_mean} Rs.\")\n",
    "print(f\"Standard Deviation of Weekly Cost: {weekly_cost_std_dev} Rs.\")\n",
    "print(f\"Standard Error: {standard_error}\")\n",
    "print(f\"Test Statistic (t): {test_statistic}\")\n",
    "print(f\"Critical Value (Z) at alpha 0.05: {critical_value}\")\n",
    "print(f\"Decision: {decision}\")"
   ]
  },
  {
   "cell_type": "raw",
   "id": "1cfc45a7-2e63-4a68-9acc-bc583cefee27",
   "metadata": {},
   "source": [
    "Explanation \n",
    "1. Theoretical Mean Calculation: Calculates the theoretical weekly cost.\n",
    "2. Standard Deviation of Weekly Cost: Calculates the standard deviation based on the given unit cost model.\n",
    "3. Test Statistic Calculation: Uses the sample mean, theoretical mean, and standard error to calculate t.\n",
    "4. Critical Value: Uses a Z-distribution critical value for a one-tailed test at a 5% level.\n",
    "5. Decision: Compares the test statistic with the critical value to decide on the hypothesis.\n",
    "    \n",
    "Sample mean weekly cost.\n",
    "Standard deviation of weekly cost.\n",
    "Standard error.\n",
    "Test statistic.\n",
    "Critical value.\n",
    "Decision on whether to reject or fail to reject the null hypothesis."
   ]
  },
  {
   "cell_type": "raw",
   "id": "21da3c24-5151-476e-85bd-226ad2f24e8e",
   "metadata": {},
   "source": [
    "Based on the decision in Step 4, where the test statistic (t =-38) was much lower than the critical value (-1.645),\n",
    "we rejected the null hypothesis. This result provides strong evidence to support the restaurant owners' claim that \n",
    "the weekly operating costs are indeed higher than the cost model suggests.\n",
    "\n",
    "The large difference between the observed sample mean (Rs. 3,050) and the theoretical mean (Rs. 4,000) indicates that \n",
    "the current model is likely outdated or inaccurate under current conditions. Therefore, the data supports the restaurant \n",
    "owners' feedback that the weekly costs have increased beyond the expected model values.\n",
    " "
   ]
  },
  {
   "cell_type": "code",
   "execution_count": null,
   "id": "39b6449b-424f-4bfe-8d7d-9676909ca857",
   "metadata": {},
   "outputs": [],
   "source": []
  }
 ],
 "metadata": {
  "kernelspec": {
   "display_name": "Python 3 (ipykernel)",
   "language": "python",
   "name": "python3"
  },
  "language_info": {
   "codemirror_mode": {
    "name": "ipython",
    "version": 3
   },
   "file_extension": ".py",
   "mimetype": "text/x-python",
   "name": "python",
   "nbconvert_exporter": "python",
   "pygments_lexer": "ipython3",
   "version": "3.12.4"
  }
 },
 "nbformat": 4,
 "nbformat_minor": 5
}
