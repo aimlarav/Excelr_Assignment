{
 "cells": [
  {
   "cell_type": "markdown",
   "id": "1f837481-f2b5-40ec-8ac4-092c0a27f44b",
   "metadata": {},
   "source": [
    "# Name: Arav Kumar\n",
    "\n",
    "## Batch Start 19-Aug-24\n",
    "\n",
    "## Course: Data Science"
   ]
  },
  {
   "cell_type": "markdown",
   "id": "642d179a-fbe6-4f43-9ff5-a117c4c8617c",
   "metadata": {},
   "source": [
    "## Estimation And Confidence Intervals"
   ]
  },
  {
   "cell_type": "raw",
   "id": "b9ba482a-6e76-4877-949d-01f136e3afdc",
   "metadata": {},
   "source": [
    "Background \n",
    "In quality control processes, especially when dealing with high-value items, destructive sampling is a necessary but costly method to ensure product\n",
    "quality. The test to determine whether an item meets the quality standards destroys the item, leading to the requirement of small sample sizes due to \n",
    "cost constraints. "
   ]
  },
  {
   "cell_type": "raw",
   "id": "c91ab96a-a0f7-4cc9-82ea-1db65dce433e",
   "metadata": {},
   "source": [
    "Scenario \n",
    "A manufacturer of print-heads for personal computers is interested in estimating the mean durability of their print-heads in terms of the number of \n",
    "characters printed before failure. To assess this, the manufacturer conducts a study on a small sample of print-heads due to the destructive nature \n",
    "of the testing process. "
   ]
  },
  {
   "cell_type": "raw",
   "id": "3100411f-0d0f-47ee-b2c2-7cfea0f8cfaf",
   "metadata": {},
   "source": [
    "Data \n",
    "A total of 15 print-heads were randomly selected and tested until failure. The durability of each print-head (in millions of characters) was recorded \n",
    "as follows: \n",
    "1.13, 1.55, 1.43, 0.92, 1.25, 1.36, 1.32, 0.85, 1.07, 1.48, 1.20, 1.33, 1.18, 1.22, 1.29 "
   ]
  },
  {
   "cell_type": "raw",
   "id": "86634bb2-94ca-4e42-b468-cb0dcf5cb0c2",
   "metadata": {},
   "source": [
    "Assignment Tasks \n",
    "\n",
    "a. Build 99% Confidence Interval Using Sample Standard Deviation \n",
    "\n",
    "Assuming the sample is representative of the population, construct a 99% confidence interval for the mean number of characters printed before the \n",
    "print-head fails using the sample standard deviation. Explain the steps you take and the rationale behind using the t-distribution for this task. \n",
    "\n",
    "b. Build 99% Confidence Interval Using Known Population Standard Deviation \n",
    "\n",
    "If it were known that the population standard deviation is 0.2 million characters, construct a 99% confidence interval for the mean number of \n",
    "characters printed before failure. \n",
    "\n",
    " "
   ]
  },
  {
   "cell_type": "code",
   "execution_count": 4,
   "id": "2c2ac548-6c82-4336-b95e-94e917035c25",
   "metadata": {},
   "outputs": [],
   "source": [
    "import numpy as np\n",
    "from scipy import stats"
   ]
  },
  {
   "cell_type": "code",
   "execution_count": 6,
   "id": "39ef9f53-7109-4ada-b8ab-dfd2e2177f82",
   "metadata": {},
   "outputs": [],
   "source": [
    "# Given data\n",
    "data = [1.13, 1.55, 1.43, 0.92, 1.25, 1.36, 1.32, 0.85, 1.07, 1.48, 1.20, 1.33, 1.18, 1.22, 1.29]\n",
    "n = len(data)\n",
    "confidence_level = 0.99"
   ]
  },
  {
   "cell_type": "code",
   "execution_count": 8,
   "id": "ee8ed43f-d0d7-4532-aec9-ae075bf96dce",
   "metadata": {},
   "outputs": [],
   "source": [
    "# (a) Confidence Interval using Sample Standard Deviation\n",
    "# Sample mean and standard deviation\n",
    "sample_mean = np.mean(data)\n",
    "sample_std = np.std(data, ddof=1) "
   ]
  },
  {
   "cell_type": "code",
   "execution_count": 10,
   "id": "2752fa15-bb3a-4e12-ae9b-b5c0fe927df7",
   "metadata": {},
   "outputs": [],
   "source": [
    "# t-critical value for 99% confidence level with n-1 degrees of freedom\n",
    "t_critical = stats.t.ppf((1 + confidence_level) / 2, df=n-1)"
   ]
  },
  {
   "cell_type": "code",
   "execution_count": 12,
   "id": "649a84fa-b5a6-419d-a6ce-75dc74fd5821",
   "metadata": {},
   "outputs": [],
   "source": [
    "# Margin of error\n",
    "margin_of_error_t = t_critical * (sample_std / np.sqrt(n))"
   ]
  },
  {
   "cell_type": "code",
   "execution_count": 14,
   "id": "720e7d8b-c436-4f8f-b7fc-f0fe013b5bf3",
   "metadata": {},
   "outputs": [],
   "source": [
    "# Confidence interval\n",
    "ci_lower_t = sample_mean - margin_of_error_t\n",
    "ci_upper_t = sample_mean + margin_of_error_t"
   ]
  },
  {
   "cell_type": "code",
   "execution_count": 16,
   "id": "8a8107b2-bbc2-48c4-bce6-52c0d5de3959",
   "metadata": {},
   "outputs": [
    {
     "name": "stdout",
     "output_type": "stream",
     "text": [
      "99% Confidence Interval using Sample Standard Deviation:\n"
     ]
    }
   ],
   "source": [
    "print(\"99% Confidence Interval using Sample Standard Deviation:\")"
   ]
  },
  {
   "cell_type": "code",
   "execution_count": 18,
   "id": "45c38210-2529-41b0-a949-16f479fbe261",
   "metadata": {},
   "outputs": [
    {
     "name": "stdout",
     "output_type": "stream",
     "text": [
      "Mean: 1.2387, Margin of Error: 0.1485\n"
     ]
    }
   ],
   "source": [
    "print(f\"Mean: {sample_mean:.4f}, Margin of Error: {margin_of_error_t:.4f}\")"
   ]
  },
  {
   "cell_type": "code",
   "execution_count": 20,
   "id": "7e9f87ea-5d00-4570-8a9c-99c8ee34a3b1",
   "metadata": {},
   "outputs": [
    {
     "name": "stdout",
     "output_type": "stream",
     "text": [
      "Confidence Interval: (1.0902, 1.3871)\n"
     ]
    }
   ],
   "source": [
    "print(f\"Confidence Interval: ({ci_lower_t:.4f}, {ci_upper_t:.4f})\")"
   ]
  },
  {
   "cell_type": "code",
   "execution_count": 22,
   "id": "74fe028e-b7a4-4a69-ad84-928ce2d1648d",
   "metadata": {},
   "outputs": [],
   "source": [
    "# (b) Confidence Interval using Known Population Standard Deviation\n",
    "population_std = 0.2"
   ]
  },
  {
   "cell_type": "code",
   "execution_count": 24,
   "id": "2f6e8a68-9157-4759-9bb4-f26701da5127",
   "metadata": {},
   "outputs": [],
   "source": [
    "# z-critical value for 99% confidence level\n",
    "z_critical = stats.norm.ppf((1 + confidence_level) / 2)"
   ]
  },
  {
   "cell_type": "code",
   "execution_count": 26,
   "id": "4b707ae7-ad6a-44ae-b0dc-d74e20ca4e13",
   "metadata": {},
   "outputs": [],
   "source": [
    "# Margin of error\n",
    "margin_of_error_z = z_critical * (population_std / np.sqrt(n))"
   ]
  },
  {
   "cell_type": "code",
   "execution_count": 28,
   "id": "9ec3e5bb-1073-4a1e-ab38-f7ea24274a13",
   "metadata": {},
   "outputs": [],
   "source": [
    "# Confidence interval\n",
    "ci_lower_z = sample_mean - margin_of_error_z\n",
    "ci_upper_z = sample_mean + margin_of_error_z"
   ]
  },
  {
   "cell_type": "code",
   "execution_count": 30,
   "id": "4c4c941e-8767-46d2-b13d-4b2d39991adc",
   "metadata": {},
   "outputs": [
    {
     "name": "stdout",
     "output_type": "stream",
     "text": [
      "\n",
      "99% Confidence Interval using Known Population Standard Deviation:\n"
     ]
    }
   ],
   "source": [
    "print(\"\\n99% Confidence Interval using Known Population Standard Deviation:\")"
   ]
  },
  {
   "cell_type": "code",
   "execution_count": 32,
   "id": "1b33eadb-5dba-436f-adb4-99fb3551dd68",
   "metadata": {},
   "outputs": [
    {
     "name": "stdout",
     "output_type": "stream",
     "text": [
      "Mean: 1.2387, Margin of Error: 0.1330\n"
     ]
    }
   ],
   "source": [
    "print(f\"Mean: {sample_mean:.4f}, Margin of Error: {margin_of_error_z:.4f}\")"
   ]
  },
  {
   "cell_type": "code",
   "execution_count": 34,
   "id": "239a0a85-7736-4b1d-9d5b-d310b9cb5d2d",
   "metadata": {},
   "outputs": [
    {
     "name": "stdout",
     "output_type": "stream",
     "text": [
      "Confidence Interval: (1.1057, 1.3717)\n"
     ]
    }
   ],
   "source": [
    "print(f\"Confidence Interval: ({ci_lower_z:.4f}, {ci_upper_z:.4f})\")"
   ]
  },
  {
   "cell_type": "raw",
   "id": "532be7fb-7900-4599-8b44-1a43050081b3",
   "metadata": {},
   "source": [
    "Explation\n",
    "\n",
    "Using the sample standard deviation: A 99% confidence interval for the mean durability, calculated with the t-distribution.\n",
    "\n",
    "Using the known population standard deviation: A 99% confidence interval for the mean durability, calculated with the z-distribution."
   ]
  },
  {
   "cell_type": "code",
   "execution_count": null,
   "id": "4e035115-f5be-4d3d-846e-66417fb4c9ac",
   "metadata": {},
   "outputs": [],
   "source": []
  }
 ],
 "metadata": {
  "kernelspec": {
   "display_name": "Python 3 (ipykernel)",
   "language": "python",
   "name": "python3"
  },
  "language_info": {
   "codemirror_mode": {
    "name": "ipython",
    "version": 3
   },
   "file_extension": ".py",
   "mimetype": "text/x-python",
   "name": "python",
   "nbconvert_exporter": "python",
   "pygments_lexer": "ipython3",
   "version": "3.12.4"
  }
 },
 "nbformat": 4,
 "nbformat_minor": 5
}
